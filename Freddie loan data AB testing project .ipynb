{
 "cells": [
  {
   "cell_type": "code",
   "execution_count": 1,
   "id": "25f2c8a5-9e0b-4a14-a1ef-9f42b93925b7",
   "metadata": {},
   "outputs": [],
   "source": [
    "import pandas as pd\n",
    "import numpy as np"
   ]
  },
  {
   "cell_type": "markdown",
   "id": "f19fec82-951b-47f6-aa44-d23744fd61b9",
   "metadata": {},
   "source": [
    "### First part: data cleaning and sampling\n",
    "Randomly sampling 1% of loans data from 2008 Q1 to 2009 Q4 \n",
    "the sampled data need to meet the following criteria: \n",
    "* Single family home\n",
    "* 30-year fixed rate\n",
    "* FICO score between 550 and 850"
   ]
  },
  {
   "cell_type": "code",
   "execution_count": 162,
   "id": "a15c6004-ce30-4753-bb2b-31bf416657d1",
   "metadata": {},
   "outputs": [],
   "source": [
    "def importdata(path):\n",
    "    #import data and creat column names\n",
    "    data=pd.read_csv(path,sep=\"|\",header=None,low_memory=False)\n",
    "    colnames=(\"CREDIT_SCORE\",\"FIRST_PAYMENT_DATE\",\"FIRST_TIME_HOMEBUYER_FLAG\",\n",
    "          \"MATURITY DATE\",\"MSA\",\"MI\",\"NUMBER OF UNITS\",\"OCCUPANCY STATUS\",\n",
    "          \"CLTV\",\"ORIGINAL DTI\",\"ORIGINAL UPB\",\"ORIGINAL LTV\",\"ORIGINAL INTEREST RATE\",\n",
    "          \"CHANNEL\",\"PPM FLAG\",\"PRODUCT TYPE\",\"PROPERTY STATE\",\"PROPERTY TYPE\",\"POSTAL CODE\",\n",
    "          \"LOAN SEQUENCE NUMBER\",\"LOAN PURPOSE\",\"ORIGINAL LOAN TERM\",\"NUMBER OF BORROWERS\",\n",
    "          \"SELLER NAME\",\"SERVICER NAME\",\"SUPER CONFORMING FLAG\")\n",
    "    colnames=[item.replace(\" \",\"_\")for item in colnames]\n",
    "    data.columns=colnames\n",
    "    #find records meet the criteria\n",
    "    data_wanted=data[(data[\"CREDIT_SCORE\"]>=550)&(data[\"CREDIT_SCORE\"]<=850)&(data[\"PROPERTY_TYPE\"]==\"SF\")&(data[\"ORIGINAL_LOAN_TERM\"]==360)]\n",
    "    #sample 1% of the data\n",
    "    sampled_data=data_wanted.sample(frac=0.01)\n",
    "    return sampled_data"
   ]
  },
  {
   "cell_type": "code",
   "execution_count": 163,
   "id": "fc650ae4-6ce2-4e81-960f-a9378156dd29",
   "metadata": {},
   "outputs": [],
   "source": [
    "#input data with the function defined above\n",
    "#the data is downloaded by quarters so we have to do it repeatedly\n",
    "sampledata0801=importdata(\"historical_data1_Q12008.txt\")\n",
    "sampledata0802=importdata(\"historical_data1_Q22008.txt\")\n",
    "sampledata0803=importdata(\"historical_data1_Q32008.txt\")\n",
    "sampledata0804=importdata(\"historical_data1_Q42008.txt\")\n",
    "sampledata0901=importdata(\"historical_data1_Q12009.txt\")\n",
    "sampledata0902=importdata(\"historical_data1_Q22009.txt\")\n",
    "sampledata0903=importdata(\"historical_data1_Q32009.txt\")\n",
    "sampledata0904=importdata(\"historical_data1_Q42009.txt\")"
   ]
  },
  {
   "cell_type": "code",
   "execution_count": 164,
   "id": "402e6b1f-b540-414c-a3e2-ab35e41311eb",
   "metadata": {},
   "outputs": [],
   "source": [
    "#combine 8 sample data \n",
    "tsample=pd.concat([sampledata0801,sampledata0802,sampledata0803,sampledata0804,\n",
    "           sampledata0901,sampledata0902,sampledata0903,sampledata0904], axis=0)\n",
    "sample=tsample.reset_index(drop=True)"
   ]
  },
  {
   "cell_type": "code",
   "execution_count": 165,
   "id": "f73a2f87-6873-4fc6-a10f-d7cc2cab1d80",
   "metadata": {},
   "outputs": [],
   "source": [
    "#output clean sample data into csv file\n",
    "sample.to_csv(\"sampledata_20082009\",index=False)"
   ]
  },
  {
   "cell_type": "markdown",
   "id": "5ee256b2-e2a6-4746-9fdf-642a2b6fb24e",
   "metadata": {},
   "source": [
    "### Second part: testing some hypothesis with A/B testing\n",
    "##### Hypothesis:\n",
    "* After the financial meltdown, loans in general have high credit scores (FICO).\n",
    "* After the financial meltdown, the portion of subprime loans (FICO < 660) decreased\n",
    "substantially in the mortgage portfolio.\n",
    "*  The quality of loans originated after meltdown is considerably higher, i.e., their\n",
    "delinquency rate is much lower compared to those loans originated before the meltdown."
   ]
  },
  {
   "cell_type": "markdown",
   "id": "10dec471-436d-4439-8c95-22a2f51a5018",
   "metadata": {},
   "source": [
    "\n",
    "\n",
    "### First hypothesis : \n",
    "\n",
    "After the financial meltdown, loans in general have high credit scores (FICO)\n",
    "* In order to check the hypothesis, we need to detect if the difference in the credict score before and after crisis is statistically significant\n",
    "* we randomly select similar number of samples before and after crisis as control and experiment group and do an A/B testing with α=0.05\n",
    "* if the difference is statistically significant, the hypothesis is true.\n",
    "\n",
    "\n",
    "$$\n",
    "SD={S}_{pool} \\sqrt{\\frac{1}{{N}_{cont}}+\\frac{1}{{N}_{exp}}}\n",
    "$$\n",
    "\n",
    "\n",
    "$$\n",
    "{S}_{pool}=\\frac{{SS}_{cont}+{SS}_{exp}}{df}\n",
    "$$"
   ]
  },
  {
   "cell_type": "code",
   "execution_count": 167,
   "id": "524d4ff2-e20e-479d-a6b9-ee2c319c3f4f",
   "metadata": {},
   "outputs": [
    {
     "name": "stdout",
     "output_type": "stream",
     "text": [
      "size of control group: 4507\n",
      "size of experiment group: 4465\n"
     ]
    }
   ],
   "source": [
    "#first step: prepare data, we sample the experiment data to make sure the size of the population in two groups are comparable\n",
    "control=sample[sample[\"FIRST_PAYMENT_DATE\"]<200809][\"CREDIT_SCORE\"]\n",
    "experiment=sample[sample[\"FIRST_PAYMENT_DATE\"]>=200809].sample(frac=0.33)[\"CREDIT_SCORE\"]\n",
    "N_cont=len(control)\n",
    "N_exp=len(experiment)\n",
    "print('size of control group:',len(control))\n",
    "print('size of experiment group:',len(experiment))"
   ]
  },
  {
   "cell_type": "code",
   "execution_count": 168,
   "id": "2e086024-87bf-4405-8038-527eb6e53828",
   "metadata": {},
   "outputs": [
    {
     "name": "stdout",
     "output_type": "stream",
     "text": [
      "Confidence Interval for credit score: [22.1651,26.1861]\n"
     ]
    }
   ],
   "source": [
    "# since the sample size is large enough, we can assume it follows normal distribution\n",
    "# assume the variance between two groups are similar\n",
    "SS_cont=sum((control-control.mean())**2)\n",
    "SS_exp=sum((experiment-experiment.mean())**2)\n",
    "S_pool=((SS_cont+SS_exp)/(N_cont+N_exp-2))**0.5\n",
    "SD=S_pool*(1/N_cont+1/N_exp)**0.5\n",
    "E=SD*1.96\n",
    "d_estimate=experiment.mean()-control.mean()\n",
    "print(\"Confidence Interval for credit score: [{},{}]\".format(round(d_estimate-E,4),round(d_estimate+E,4)))"
   ]
  },
  {
   "cell_type": "markdown",
   "id": "056bfd06-7449-46f9-bcc9-638501b65f20",
   "metadata": {},
   "source": [
    "##### Conclusion:\n",
    "\n",
    "The Hypothesis that after the financial meltdown, loans in general have high credit scores is true. The confidence interval does not include 0, so we are confidenct at a 95% significant level that the difference in credict score before and after crisis is statistically significant."
   ]
  },
  {
   "cell_type": "markdown",
   "id": "98fd8c59-862d-4d44-b06c-b0d372b1569f",
   "metadata": {},
   "source": [
    "\n",
    "\n",
    "### Second hypothesis : \n",
    "\n",
    "After the financial meltdown, the portion of subprime loans (FICO < 660) decreased substantially in the mortgage portfolio.\n",
    "* In order to check the hypothesis, we need to detect if the difference in the subprime loans probability before and after crisis is statistically significant. In another word we regard before and after crisis as control and experiment group.\n",
    "* we randomly select 100 records to calculate subprime loans probability before and after crisis. Repeat the process for 30 times to collect 30 average subprime loans probability in each group. Then do an A/B testing with α=0.05 based on the data we collected.\n",
    "* if the difference is statistically significant, the hypothesis is true."
   ]
  },
  {
   "cell_type": "markdown",
   "id": "4bb71a16-f24d-4833-b6e8-52915d4ea1c4",
   "metadata": {},
   "source": [
    "##### First step: Preparing data\n",
    "   \n",
    "Randomly select 100 records to calculate subprime loans probability before and after crisis. Repeat the process for 30 times."
   ]
  },
  {
   "cell_type": "code",
   "execution_count": 169,
   "id": "39a91026-a7ea-40b9-9f31-b33d93e3b4d6",
   "metadata": {},
   "outputs": [],
   "source": [
    "data_beforeCrisis=sample[sample[\"FIRST_PAYMENT_DATE\"]<200809]\n",
    "data_afterCrisis=sample[sample[\"FIRST_PAYMENT_DATE\"]>200809]"
   ]
  },
  {
   "cell_type": "code",
   "execution_count": 170,
   "id": "736194c5-d80f-43b3-b7ba-33593c7746e7",
   "metadata": {},
   "outputs": [],
   "source": [
    "# sample around 100 data and calculate subprime number\n",
    "def get_Subprime_pro(data,fraction):\n",
    "    sample=data.sample(frac=fraction)\n",
    "    N_subprime=len(sample[sample[\"CREDIT_SCORE\"]<660])\n",
    "    return N_subprime"
   ]
  },
  {
   "cell_type": "code",
   "execution_count": 171,
   "id": "3a778ef2-b828-490a-9113-f4a359282a0e",
   "metadata": {},
   "outputs": [],
   "source": [
    "# get 30 subprime loan number before crisis.\n",
    "#in order to sample 100 loans, we set the fraction as 100/number of loan before crisis\n",
    "Subprime_cont=[get_Subprime_pro(data_beforeCrisis,100/len(data_beforeCrisis)) for i in range(30)]\n",
    "Loan_cont=[len(data_beforeCrisis.sample(frac=100/len(data_beforeCrisis))) for i in range(30)]\n",
    "# get 30 subprime loan number after crisis\n",
    "#in order to sample 100 loans, we set the fraction as 100/number of loan after crisis\n",
    "Subprime_exp=[get_Subprime_pro(data_afterCrisis,100/len(data_afterCrisis)) for i in range(30)]\n",
    "Loan_exp=[len(data_afterCrisis.sample(frac=100/len(data_afterCrisis))) for i in range(30)]"
   ]
  },
  {
   "cell_type": "code",
   "execution_count": 172,
   "id": "b225dc6b-ad87-4895-96b0-14c7b199cdf6",
   "metadata": {},
   "outputs": [
    {
     "data": {
      "text/html": [
       "<div>\n",
       "<style scoped>\n",
       "    .dataframe tbody tr th:only-of-type {\n",
       "        vertical-align: middle;\n",
       "    }\n",
       "\n",
       "    .dataframe tbody tr th {\n",
       "        vertical-align: top;\n",
       "    }\n",
       "\n",
       "    .dataframe thead th {\n",
       "        text-align: right;\n",
       "    }\n",
       "</style>\n",
       "<table border=\"1\" class=\"dataframe\">\n",
       "  <thead>\n",
       "    <tr style=\"text-align: right;\">\n",
       "      <th></th>\n",
       "      <th>Loan_cont</th>\n",
       "      <th>Subprime_cont</th>\n",
       "      <th>Loan_exp</th>\n",
       "      <th>Subprime_exp</th>\n",
       "    </tr>\n",
       "  </thead>\n",
       "  <tbody>\n",
       "    <tr>\n",
       "      <th>0</th>\n",
       "      <td>100</td>\n",
       "      <td>9</td>\n",
       "      <td>100</td>\n",
       "      <td>4</td>\n",
       "    </tr>\n",
       "    <tr>\n",
       "      <th>1</th>\n",
       "      <td>100</td>\n",
       "      <td>10</td>\n",
       "      <td>100</td>\n",
       "      <td>3</td>\n",
       "    </tr>\n",
       "    <tr>\n",
       "      <th>2</th>\n",
       "      <td>100</td>\n",
       "      <td>9</td>\n",
       "      <td>100</td>\n",
       "      <td>3</td>\n",
       "    </tr>\n",
       "    <tr>\n",
       "      <th>3</th>\n",
       "      <td>100</td>\n",
       "      <td>11</td>\n",
       "      <td>100</td>\n",
       "      <td>1</td>\n",
       "    </tr>\n",
       "    <tr>\n",
       "      <th>4</th>\n",
       "      <td>100</td>\n",
       "      <td>14</td>\n",
       "      <td>100</td>\n",
       "      <td>3</td>\n",
       "    </tr>\n",
       "  </tbody>\n",
       "</table>\n",
       "</div>"
      ],
      "text/plain": [
       "   Loan_cont  Subprime_cont  Loan_exp  Subprime_exp\n",
       "0        100              9       100             4\n",
       "1        100             10       100             3\n",
       "2        100              9       100             3\n",
       "3        100             11       100             1\n",
       "4        100             14       100             3"
      ]
     },
     "execution_count": 172,
     "metadata": {},
     "output_type": "execute_result"
    }
   ],
   "source": [
    "column_name=[\"Loan_cont\",\"Subprime_cont\",\"Loan_exp\",\"Subprime_exp\"]\n",
    "df_Subprime = pd.DataFrame(list(zip(Loan_cont,Subprime_cont,Loan_exp,Subprime_exp)), columns =column_name)\n",
    "df_Subprime.head()"
   ]
  },
  {
   "cell_type": "markdown",
   "id": "63ef10ca-6373-4425-bd96-3bf169427250",
   "metadata": {},
   "source": [
    "##### Second step: Calculate S_pool and p_pool\n",
    "$$\n",
    "{S}_{pool}= \\sqrt{{p}_{pool}*(1-{p}_{pool})*(\\frac{1}{{N}_{cont}}+\\frac{1}{{N}_{exp}})}\n",
    "$$\n",
    "\n",
    "\n",
    "$$\n",
    "{p}_{pool}=\\frac{{C}_{cont}+{C}_{exp}}{{N}_{cont}+{N}_{exp}}\n",
    "$$"
   ]
  },
  {
   "cell_type": "code",
   "execution_count": 173,
   "id": "b2f30573-e6b0-46b7-adc5-7d347e48a6f0",
   "metadata": {},
   "outputs": [],
   "source": [
    "Subprime_cont=df_Subprime['Subprime_cont'].sum()\n",
    "Subprime_exp=df_Subprime['Subprime_exp'].sum()\n",
    "Loan_cont=df_Subprime['Loan_cont'].sum()\n",
    "Loan_exp=df_Subprime['Loan_exp'].sum()\n",
    "p_pool=(Subprime_cont+Subprime_exp)/(Loan_cont+Loan_exp)\n",
    "S_pool=(p_pool*(1-p_pool)*(1/Loan_cont+1/Loan_exp))**0.5"
   ]
  },
  {
   "cell_type": "markdown",
   "id": "c336e552-a4ae-4080-8277-59fadbbd436b",
   "metadata": {},
   "source": [
    "##### Third step: Calculate confidence interval"
   ]
  },
  {
   "cell_type": "code",
   "execution_count": 174,
   "id": "42a48d46-b009-407b-9715-2442306def9e",
   "metadata": {},
   "outputs": [
    {
     "name": "stdout",
     "output_type": "stream",
     "text": [
      "Confidence Interval for subprime loans probability: [-0.0774,-0.0533]\n"
     ]
    }
   ],
   "source": [
    "E=S_pool*1.96\n",
    "d_estimate=Subprime_exp/Loan_exp-Subprime_cont/Loan_cont\n",
    "print(\"Confidence Interval for subprime loans probability: [{},{}]\".format(round(d_estimate-E,4),round(d_estimate+E,4)))"
   ]
  },
  {
   "cell_type": "markdown",
   "id": "7a6c1518-c1c5-4e48-a1bf-9bc9140929fc",
   "metadata": {},
   "source": [
    "##### Conclusion:\n",
    "\n",
    "The Hypothesis that after the financial meltdown, the portion of subprime loans (FICO < 660) decreased substantially in the mortgage portfolio is true. The confidence interval does not include 0, so we are confidenct at a 95% significant level that the difference in portion of subprime loans before and after crisis is statistically significant."
   ]
  },
  {
   "cell_type": "markdown",
   "id": "9ddb26ac-9e40-4633-97ef-f705ce8e8452",
   "metadata": {},
   "source": [
    "\n",
    "\n",
    "### Third hypothesis : \n",
    "The quality of loans originated after meltdown is considerably higher, i.e., their delinquency rate is much lower compared to those loans originated before the meltdown."
   ]
  },
  {
   "cell_type": "markdown",
   "id": "07d6849c-63f0-4f01-9c6a-71503a3418df",
   "metadata": {},
   "source": [
    "##### We need to define delinquency first:\n",
    "* A loan has reached 90+ days in delinquency\n",
    "* A loan has shown recovery amount as recovery usually comes after foreclosure and repossession by the bank (REO)\n",
    "* A loan has been modified, i.e., interest rate reduction after negotiating with the bank.\n",
    "\n",
    "Based on this definition we need to use performance data to derive a delinquency flag for each loan.\n",
    "As older loans have longer performance histories and hence are more likely to encounter delinquency, we select performance data of 5 years for each loan."
   ]
  },
  {
   "cell_type": "markdown",
   "id": "740a212d-bb04-492f-b51f-bb63cf232c6d",
   "metadata": {},
   "source": [
    "#### first step: derive a delinquency flag for each loan\n",
    "##### 1. find loan sequence number in sample dataset"
   ]
  },
  {
   "cell_type": "code",
   "execution_count": 4,
   "id": "6e306e5e-9cb2-40f7-976b-bb6875294f83",
   "metadata": {},
   "outputs": [],
   "source": [
    "#input a new 'sample' data \n",
    "sample_with_delinquency=pd.read_csv(\"sampledata_20082009\")\n",
    "# add a delinquency column in sample data and assign 'N'\n",
    "sample_with_delinquency['delinquency']='N'\n",
    "# find loan sequence number in sample dataset\n",
    "Loan_id=sample[\"LOAN_SEQUENCE_NUMBER\"].unique()"
   ]
  },
  {
   "cell_type": "markdown",
   "id": "0dbd30a0-4df7-45b8-b2ba-6cebb3e19dce",
   "metadata": {},
   "source": [
    "##### 2. load and clean the historical data\n",
    "\n",
    "\n",
    "* write a function to load performance historical data in chunk.\n",
    "* filter the historical data to find corresponding historical data of these loans in sample data, because the historical data contains all the historical data of loans that has not been paied off.\n",
    "* filter the historical data within five years."
   ]
  },
  {
   "cell_type": "code",
   "execution_count": 5,
   "id": "d1f733a4-85fd-4bc0-91b3-82a3dd572ff5",
   "metadata": {},
   "outputs": [],
   "source": [
    "def read_big_data(path,year):\n",
    "    mylist = []\n",
    "    for chunk in  pd.read_csv(path, sep=\"|\", chunksize=20000,\n",
    "                         header=None,low_memory=False,\n",
    "                         usecols=[0, 1,3, 7,18]):\n",
    "        mylist.append(chunk)\n",
    "    big_data = pd.concat(mylist, axis= 0)\n",
    "    del mylist\n",
    "    big_data.columns=[\"LOAN_SEQUENCE_NUMBER\",\"MONTHLY_REPORTING_PERIOD\",\"CURRENT_LOAN_DELINQUENCY_STATUS\",\"MODIFICATION_FLAG\",\"MAINTENANCE_AND_PRESERVATION_COSTS\"]\n",
    "    #filter records within 5 years\n",
    "    filter_l=big_data[\"LOAN_SEQUENCE_NUMBER\"].isin(Loan_id)\n",
    "    filter_y=big_data[\"MONTHLY_REPORTING_PERIOD\"]<=year\n",
    "    history_data=big_data[filter_l&filter_y]\n",
    "    return history_data"
   ]
  },
  {
   "cell_type": "markdown",
   "id": "7e5c9bcd-967f-4ff6-b5d6-0950a900cb50",
   "metadata": {},
   "source": [
    "##### 3. label delinquency in sample data"
   ]
  },
  {
   "cell_type": "code",
   "execution_count": 17,
   "id": "d83b3812-e16d-47db-91f3-06ca9725f86a",
   "metadata": {},
   "outputs": [],
   "source": [
    "#define a function to find delinquency loan and label it in 'sample' data\n",
    "def label_delinquency(input_historydata,sample_with_delinquency):\n",
    "    #find delinquency loan based on definition\n",
    "    filter1=input_historydata['CURRENT_LOAN_DELINQUENCY_STATUS']==3\n",
    "    filter2=input_historydata['MODIFICATION_FLAG']=='Y'\n",
    "    filter3=input_historydata['MAINTENANCE_AND_PRESERVATION_COSTS']>0\n",
    "    delinquency_id=input_historydata[filter1|filter2|filter3]['LOAN_SEQUENCE_NUMBER'].unique()\n",
    "    #label the delinquency in 'sample' data\n",
    "    sample_with_delinquency.loc[sample_with_delinquency[\"LOAN_SEQUENCE_NUMBER\"].isin(delinquency_id),'delinquency']='Y'\n",
    "    return sample_with_delinquency"
   ]
  },
  {
   "cell_type": "code",
   "execution_count": null,
   "id": "92b41bf1-da0b-4b66-86b2-de36e26e1da1",
   "metadata": {},
   "outputs": [],
   "source": [
    "# use function defined above to load all historical data within 5 years of loans in sample"
   ]
  },
  {
   "cell_type": "code",
   "execution_count": 7,
   "id": "3eb187b4-cb77-4861-9a36-67487bbd7e29",
   "metadata": {},
   "outputs": [],
   "source": [
    "# use function defined above to load all historical data within 5 years of loans in sample\n",
    "history_data08Q1=read_big_data('historical_data1_time_Q12008.txt',201304)\n",
    "history_data08Q2=read_big_data('historical_data1_time_Q22008.txt',201307)\n",
    "history_data08Q3=read_big_data('historical_data1_time_Q32008.txt',201310)\n",
    "history_data08Q4=read_big_data('historical_data1_time_Q42008.txt',201401)"
   ]
  },
  {
   "cell_type": "code",
   "execution_count": 11,
   "id": "280acf46-3bb2-4e66-8f14-582f769856b8",
   "metadata": {},
   "outputs": [],
   "source": [
    "history_data09Q1=read_big_data('historical_data1_time_Q12009.txt',201404)\n",
    "history_data09Q2=read_big_data('historical_data1_time_Q22009.txt',201407)\n",
    "history_data09Q3=read_big_data('historical_data1_time_Q32009.txt',201410)\n",
    "history_data09Q4=read_big_data('historical_data1_time_Q42009.txt',201501)"
   ]
  },
  {
   "cell_type": "code",
   "execution_count": 18,
   "id": "90421d78-37a4-4d75-9cf8-a0c595ed00db",
   "metadata": {},
   "outputs": [],
   "source": [
    "#use function defined above to label delinquency in sample data\n",
    "sample_with_delinquency=label_delinquency(history_data08Q1,sample_with_delinquency)\n",
    "sample_with_delinquency=label_delinquency(history_data08Q2,sample_with_delinquency)\n",
    "sample_with_delinquency=label_delinquency(history_data08Q3,sample_with_delinquency)\n",
    "sample_with_delinquency=label_delinquency(history_data08Q4,sample_with_delinquency)"
   ]
  },
  {
   "cell_type": "code",
   "execution_count": 20,
   "id": "ff29de7b-8436-4164-9b48-4ac46f00d58e",
   "metadata": {},
   "outputs": [],
   "source": [
    "sample_with_delinquency=label_delinquency(history_data09Q1,sample_with_delinquency)\n",
    "sample_with_delinquency=label_delinquency(history_data09Q2,sample_with_delinquency)\n",
    "sample_with_delinquency=label_delinquency(history_data09Q3,sample_with_delinquency)\n",
    "sample_with_delinquency=label_delinquency(history_data09Q4,sample_with_delinquency)"
   ]
  },
  {
   "cell_type": "code",
   "execution_count": 26,
   "id": "726b2b96-aa1c-4a06-b174-59a132f064be",
   "metadata": {},
   "outputs": [
    {
     "data": {
      "text/html": [
       "<div>\n",
       "<style scoped>\n",
       "    .dataframe tbody tr th:only-of-type {\n",
       "        vertical-align: middle;\n",
       "    }\n",
       "\n",
       "    .dataframe tbody tr th {\n",
       "        vertical-align: top;\n",
       "    }\n",
       "\n",
       "    .dataframe thead th {\n",
       "        text-align: right;\n",
       "    }\n",
       "</style>\n",
       "<table border=\"1\" class=\"dataframe\">\n",
       "  <thead>\n",
       "    <tr style=\"text-align: right;\">\n",
       "      <th></th>\n",
       "      <th>LOAN_SEQUENCE_NUMBER</th>\n",
       "      <th>FIRST_PAYMENT_DATE</th>\n",
       "      <th>delinquency</th>\n",
       "    </tr>\n",
       "  </thead>\n",
       "  <tbody>\n",
       "    <tr>\n",
       "      <th>0</th>\n",
       "      <td>F108Q1003851</td>\n",
       "      <td>200803</td>\n",
       "      <td>N</td>\n",
       "    </tr>\n",
       "    <tr>\n",
       "      <th>1</th>\n",
       "      <td>F108Q1155511</td>\n",
       "      <td>200804</td>\n",
       "      <td>Y</td>\n",
       "    </tr>\n",
       "    <tr>\n",
       "      <th>2</th>\n",
       "      <td>F108Q1234811</td>\n",
       "      <td>200805</td>\n",
       "      <td>N</td>\n",
       "    </tr>\n",
       "    <tr>\n",
       "      <th>3</th>\n",
       "      <td>F108Q1092373</td>\n",
       "      <td>200804</td>\n",
       "      <td>Y</td>\n",
       "    </tr>\n",
       "    <tr>\n",
       "      <th>4</th>\n",
       "      <td>F108Q1137346</td>\n",
       "      <td>200803</td>\n",
       "      <td>N</td>\n",
       "    </tr>\n",
       "  </tbody>\n",
       "</table>\n",
       "</div>"
      ],
      "text/plain": [
       "  LOAN_SEQUENCE_NUMBER  FIRST_PAYMENT_DATE delinquency\n",
       "0         F108Q1003851              200803           N\n",
       "1         F108Q1155511              200804           Y\n",
       "2         F108Q1234811              200805           N\n",
       "3         F108Q1092373              200804           Y\n",
       "4         F108Q1137346              200803           N"
      ]
     },
     "execution_count": 26,
     "metadata": {},
     "output_type": "execute_result"
    }
   ],
   "source": [
    "sample_with_delinquency[[\"LOAN_SEQUENCE_NUMBER\",\"FIRST_PAYMENT_DATE\",\"delinquency\"]].head()"
   ]
  },
  {
   "cell_type": "markdown",
   "id": "c5d7e69c-8a3f-406f-aadb-b2f18fcd8bf9",
   "metadata": {},
   "source": [
    "#### second step: prepare data for A/B testing\n",
    "* In order to check the hypothesis, we need to detect if the difference in the delinquency probability before and after crisis is statistically significant. In another word we regard before and after crisis as control and experiment group.\n",
    "* we randomly select 200 records to calculate delinquency probability before and after crisis. Repeat the process for 30 times to collect 30 average delinquency probability in each group. Then do an A/B testing with α=0.05 based on the data we collected.\n",
    "* if the difference is statistically significant, the hypothesis is true."
   ]
  },
  {
   "cell_type": "code",
   "execution_count": 27,
   "id": "c6b20023-d771-4aef-a495-0e9dbfadbb73",
   "metadata": {},
   "outputs": [],
   "source": [
    "# define a function to sample around 200 data and calculate delinquency number\n",
    "def get_delinquency_N(sample_with_delinquency,fraction):\n",
    "    sample=sample_with_delinquency.sample(frac=fraction)\n",
    "    N_delinquency=len(sample[sample[\"delinquency\"]=='Y'])\n",
    "    return N_delinquency"
   ]
  },
  {
   "cell_type": "code",
   "execution_count": 28,
   "id": "c02f5279-f377-44bb-80ff-3e85c658f5d4",
   "metadata": {},
   "outputs": [],
   "source": [
    "# split data with delinquency into before and after crisis\n",
    "data_wd_beforeCrisis=sample_with_delinquency[sample_with_delinquency[\"FIRST_PAYMENT_DATE\"]<200809]\n",
    "data_wd_afterCrisis=sample_with_delinquency[sample_with_delinquency[\"FIRST_PAYMENT_DATE\"]>200809]"
   ]
  },
  {
   "cell_type": "code",
   "execution_count": 29,
   "id": "498cf2b4-16d2-4026-af8d-abacebcec62b",
   "metadata": {},
   "outputs": [],
   "source": [
    "# get 30 delinquency number before and after crisis.\n",
    "# in order to sample 200 loans, we set the fraction as 200/number of loan before and after crisis.\n",
    "Delinquency_cont=[get_delinquency_N(data_wd_beforeCrisis,200/len(data_wd_beforeCrisis)) for i in range(30)]\n",
    "Loan_cont=[len(data_wd_beforeCrisis.sample(frac=200/len(data_wd_beforeCrisis))) for i in range(30)]\n",
    "\n",
    "Delinquency_exp=[get_delinquency_N(data_wd_afterCrisis,200/len(data_wd_afterCrisis)) for i in range(30)]\n",
    "Loan_exp=[len(data_wd_afterCrisis.sample(frac=200/len(data_wd_afterCrisis))) for i in range(30)]"
   ]
  },
  {
   "cell_type": "code",
   "execution_count": 31,
   "id": "6f14a73a-48b5-4ca2-a902-2f4efb5a251d",
   "metadata": {},
   "outputs": [
    {
     "data": {
      "text/html": [
       "<div>\n",
       "<style scoped>\n",
       "    .dataframe tbody tr th:only-of-type {\n",
       "        vertical-align: middle;\n",
       "    }\n",
       "\n",
       "    .dataframe tbody tr th {\n",
       "        vertical-align: top;\n",
       "    }\n",
       "\n",
       "    .dataframe thead th {\n",
       "        text-align: right;\n",
       "    }\n",
       "</style>\n",
       "<table border=\"1\" class=\"dataframe\">\n",
       "  <thead>\n",
       "    <tr style=\"text-align: right;\">\n",
       "      <th></th>\n",
       "      <th>Loan_cont</th>\n",
       "      <th>Delinquency_cont</th>\n",
       "      <th>Loan_exp</th>\n",
       "      <th>Delinquency_exp</th>\n",
       "    </tr>\n",
       "  </thead>\n",
       "  <tbody>\n",
       "    <tr>\n",
       "      <th>0</th>\n",
       "      <td>200</td>\n",
       "      <td>6</td>\n",
       "      <td>200</td>\n",
       "      <td>1</td>\n",
       "    </tr>\n",
       "    <tr>\n",
       "      <th>1</th>\n",
       "      <td>200</td>\n",
       "      <td>6</td>\n",
       "      <td>200</td>\n",
       "      <td>3</td>\n",
       "    </tr>\n",
       "    <tr>\n",
       "      <th>2</th>\n",
       "      <td>200</td>\n",
       "      <td>9</td>\n",
       "      <td>200</td>\n",
       "      <td>2</td>\n",
       "    </tr>\n",
       "    <tr>\n",
       "      <th>3</th>\n",
       "      <td>200</td>\n",
       "      <td>1</td>\n",
       "      <td>200</td>\n",
       "      <td>2</td>\n",
       "    </tr>\n",
       "    <tr>\n",
       "      <th>4</th>\n",
       "      <td>200</td>\n",
       "      <td>9</td>\n",
       "      <td>200</td>\n",
       "      <td>3</td>\n",
       "    </tr>\n",
       "  </tbody>\n",
       "</table>\n",
       "</div>"
      ],
      "text/plain": [
       "   Loan_cont  Delinquency_cont  Loan_exp  Delinquency_exp\n",
       "0        200                 6       200                1\n",
       "1        200                 6       200                3\n",
       "2        200                 9       200                2\n",
       "3        200                 1       200                2\n",
       "4        200                 9       200                3"
      ]
     },
     "execution_count": 31,
     "metadata": {},
     "output_type": "execute_result"
    }
   ],
   "source": [
    "column_name=[\"Loan_cont\",\"Delinquency_cont\",\"Loan_exp\",\"Delinquency_exp\"]\n",
    "df_Delinquency = pd.DataFrame(list(zip(Loan_cont,Delinquency_cont,Loan_exp,Delinquency_exp)), columns =column_name)\n",
    "df_Delinquency.head()"
   ]
  },
  {
   "cell_type": "markdown",
   "id": "d4337833-41be-4df7-8be1-478cc298e82a",
   "metadata": {},
   "source": [
    "##### Third step: Calculate S_pool and p_pool\n",
    "$$\n",
    "{S}_{pool}= \\sqrt{{p}_{pool}*(1-{p}_{pool})*(\\frac{1}{{N}_{cont}}+\\frac{1}{{N}_{exp}})}\n",
    "$$\n",
    "\n",
    "\n",
    "$$\n",
    "{p}_{pool}=\\frac{{C}_{cont}+{C}_{exp}}{{N}_{cont}+{N}_{exp}}\n",
    "$$"
   ]
  },
  {
   "cell_type": "code",
   "execution_count": 33,
   "id": "296d09a8-cbef-4cb0-9b48-bbc7e1bd6216",
   "metadata": {},
   "outputs": [],
   "source": [
    "Delinquency_cont=df_Delinquency['Delinquency_cont'].sum()\n",
    "Delinquency_exp=df_Delinquency['Delinquency_exp'].sum()\n",
    "Loan_cont=df_Delinquency['Loan_cont'].sum()\n",
    "Loan_exp=df_Delinquency['Loan_exp'].sum()\n",
    "p_pool=(Delinquency_cont+Delinquency_exp)/(Loan_cont+Loan_exp)\n",
    "S_pool=(p_pool*(1-p_pool)*(1/Loan_cont+1/Loan_exp))**0.5"
   ]
  },
  {
   "cell_type": "markdown",
   "id": "a9b179dd-d2e6-4b58-a8b0-425d6d6f95eb",
   "metadata": {},
   "source": [
    "##### Forth step: Calculate confidence interval"
   ]
  },
  {
   "cell_type": "code",
   "execution_count": 34,
   "id": "9ceddc93-783e-41a8-b95e-850b35a5d64c",
   "metadata": {},
   "outputs": [
    {
     "name": "stdout",
     "output_type": "stream",
     "text": [
      "Confidence Interval for loan delinquency number: [-0.032,-0.0213]\n"
     ]
    }
   ],
   "source": [
    "E=S_pool*1.96\n",
    "d_estimate=Delinquency_exp/Loan_exp-Delinquency_cont/Loan_cont\n",
    "print(\"Confidence Interval for loan delinquency number: [{},{}]\".format(round(d_estimate-E,4),round(d_estimate+E,4)))"
   ]
  },
  {
   "cell_type": "markdown",
   "id": "25c6efc6-1837-4da4-971a-abc5faa4e48c",
   "metadata": {},
   "source": [
    "##### Conclusion:\n",
    "\n",
    "The Hypothesis that the quality of loans originated after meltdown is considerably higher. In another word, their delinquency rate is much lower compared to those loans originated before the meltdown is true. The confidence interval does not include 0, so we are confidenct at a 95% significant level that the difference in delinquency rate before and after crisis is statistically significant."
   ]
  },
  {
   "cell_type": "code",
   "execution_count": null,
   "id": "db0c50ef-5eea-4ffa-b324-17d13a9acba0",
   "metadata": {},
   "outputs": [],
   "source": []
  },
  {
   "cell_type": "code",
   "execution_count": null,
   "id": "99b210f7-41bf-49ea-9045-d0b804dfd3da",
   "metadata": {},
   "outputs": [],
   "source": []
  },
  {
   "cell_type": "code",
   "execution_count": null,
   "id": "c7eb212a-2af0-4ea8-8916-fc5b9fc400e0",
   "metadata": {},
   "outputs": [],
   "source": []
  },
  {
   "cell_type": "code",
   "execution_count": null,
   "id": "a3ca0a30-5d38-41c9-8426-51952bd341e9",
   "metadata": {},
   "outputs": [],
   "source": []
  },
  {
   "cell_type": "code",
   "execution_count": null,
   "id": "037f4470-9cd6-4c1c-91c5-22e82129cc73",
   "metadata": {},
   "outputs": [],
   "source": []
  },
  {
   "cell_type": "code",
   "execution_count": null,
   "id": "db6b832a-fa7c-4076-9b53-55101508cf41",
   "metadata": {},
   "outputs": [],
   "source": []
  },
  {
   "cell_type": "code",
   "execution_count": null,
   "id": "58063cf1-847a-420d-bcf9-37bbc551ea06",
   "metadata": {},
   "outputs": [],
   "source": []
  },
  {
   "cell_type": "code",
   "execution_count": null,
   "id": "59056b0d-8504-4e00-8078-9bfb3981dce0",
   "metadata": {},
   "outputs": [],
   "source": []
  },
  {
   "cell_type": "code",
   "execution_count": null,
   "id": "f5a857b3-17d6-46a1-ae91-2c209d95c72b",
   "metadata": {},
   "outputs": [],
   "source": []
  },
  {
   "cell_type": "code",
   "execution_count": null,
   "id": "6c107651-f298-4c00-a413-fbad0e02a1cc",
   "metadata": {},
   "outputs": [],
   "source": []
  },
  {
   "cell_type": "code",
   "execution_count": null,
   "id": "b862ab8d-036f-430a-ba21-c89bd6f3d484",
   "metadata": {},
   "outputs": [],
   "source": []
  },
  {
   "cell_type": "code",
   "execution_count": null,
   "id": "3e667986-146c-4140-b9bf-acd724990756",
   "metadata": {},
   "outputs": [],
   "source": []
  },
  {
   "cell_type": "code",
   "execution_count": null,
   "id": "283887b3-cded-46de-8a46-32118174e744",
   "metadata": {},
   "outputs": [],
   "source": []
  },
  {
   "cell_type": "code",
   "execution_count": null,
   "id": "30558bbd-a40b-4cc0-b682-0a31c5a75965",
   "metadata": {},
   "outputs": [],
   "source": []
  },
  {
   "cell_type": "code",
   "execution_count": null,
   "id": "bf529a97-1073-49cb-a884-4428661f0d5f",
   "metadata": {},
   "outputs": [],
   "source": []
  },
  {
   "cell_type": "code",
   "execution_count": null,
   "id": "e33d09f8-1930-4dda-8af7-80eb8828fba5",
   "metadata": {},
   "outputs": [],
   "source": []
  },
  {
   "cell_type": "code",
   "execution_count": null,
   "id": "303c7981-440d-4354-8e87-abd494b40aea",
   "metadata": {},
   "outputs": [],
   "source": []
  },
  {
   "cell_type": "code",
   "execution_count": null,
   "id": "b7b800a0-fa71-41dd-8f02-24f782bdd6c3",
   "metadata": {},
   "outputs": [],
   "source": []
  },
  {
   "cell_type": "code",
   "execution_count": null,
   "id": "84f5c10f-9126-4383-bb24-826ba46fc976",
   "metadata": {},
   "outputs": [],
   "source": []
  },
  {
   "cell_type": "code",
   "execution_count": null,
   "id": "4b792e0b-85e6-4587-baed-7743019b302b",
   "metadata": {},
   "outputs": [],
   "source": []
  },
  {
   "cell_type": "code",
   "execution_count": null,
   "id": "14b67507-640f-4fdd-ad24-f951f652880c",
   "metadata": {},
   "outputs": [],
   "source": []
  },
  {
   "cell_type": "code",
   "execution_count": null,
   "id": "3588ad56-d452-4da4-af4d-c25e246f3f51",
   "metadata": {},
   "outputs": [],
   "source": []
  },
  {
   "cell_type": "code",
   "execution_count": null,
   "id": "cf2622fc-8080-4044-b781-7a21ac7c0133",
   "metadata": {},
   "outputs": [],
   "source": []
  },
  {
   "cell_type": "code",
   "execution_count": null,
   "id": "64dfbce5-1cb1-4b85-a2ed-51e5d39b7a58",
   "metadata": {},
   "outputs": [],
   "source": []
  },
  {
   "cell_type": "code",
   "execution_count": null,
   "id": "036f7b86-8b0a-4527-b8f8-1a643214871f",
   "metadata": {},
   "outputs": [],
   "source": []
  },
  {
   "cell_type": "code",
   "execution_count": null,
   "id": "aa7f0e7a-450a-40dd-bd31-91cbdc9da10f",
   "metadata": {},
   "outputs": [],
   "source": []
  },
  {
   "cell_type": "code",
   "execution_count": null,
   "id": "6e0d26b6-e896-4046-95eb-48706b5889fc",
   "metadata": {},
   "outputs": [],
   "source": []
  }
 ],
 "metadata": {
  "kernelspec": {
   "display_name": "Python 3",
   "language": "python",
   "name": "python3"
  },
  "language_info": {
   "codemirror_mode": {
    "name": "ipython",
    "version": 3
   },
   "file_extension": ".py",
   "mimetype": "text/x-python",
   "name": "python",
   "nbconvert_exporter": "python",
   "pygments_lexer": "ipython3",
   "version": "3.8.8"
  }
 },
 "nbformat": 4,
 "nbformat_minor": 5
}
